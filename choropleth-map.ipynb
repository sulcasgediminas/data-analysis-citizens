{
 "cells": [
  {
   "cell_type": "code",
   "execution_count": 2,
   "metadata": {},
   "outputs": [],
   "source": [
    "import pandas as pd\n",
    "import json\n",
    "import folium\n",
    "\n",
    "# Load the tabular data\n",
    "with open('gr_open_amzius_lytis_pilietybes-1.plain', 'r') as file:\n",
    "    data = file.read()\n",
    "\n",
    "column_names = ['Number', 'Gender', 'Age Range', 'Nationality', 'Year of declaration', 'During the quarter', 'Region code', 'Region name', 'Date']\n",
    "data_frame = pd.DataFrame([x.split('|') for x in data.split('\\n')], columns=column_names)\n",
    "\n",
    "# Aggregate the data by 'Region name' and calculate the metric of interest\n",
    "# For example, here we count the number of records for each region\n",
    "aggregated_data = data_frame.groupby('Region name').size().reset_index(name='count')\n",
    "\n",
    "# Load the GeoJSON data\n",
    "with open('lithuania_admin_level_5_simplified.json') as f:\n",
    "    geojson_data = json.load(f)\n",
    "\n",
    "# Initialize the map centered on Lithuania\n",
    "m = folium.Map(location=[55.1694, 23.8813], zoom_start=7)\n",
    "\n",
    "# Add the choropleth layer\n",
    "folium.Choropleth(\n",
    "    geo_data=geojson_data,\n",
    "    name='choropleth',\n",
    "    data=aggregated_data,\n",
    "    columns=['Region name', 'count'],\n",
    "    key_on='feature.properties.name',\n",
    "    fill_color='YlOrRd',\n",
    "    fill_opacity=0.7,\n",
    "    line_opacity=0.2,\n",
    "    legend_name='Population Count'\n",
    ").add_to(m)\n",
    "\n",
    "# Save the map to an HTML file\n",
    "m.save('choropleth_map.html')\n"
   ]
  }
 ],
 "metadata": {
  "kernelspec": {
   "display_name": "citizens-venv",
   "language": "python",
   "name": "python3"
  },
  "language_info": {
   "codemirror_mode": {
    "name": "ipython",
    "version": 3
   },
   "file_extension": ".py",
   "mimetype": "text/x-python",
   "name": "python",
   "nbconvert_exporter": "python",
   "pygments_lexer": "ipython3",
   "version": "3.10.6"
  },
  "orig_nbformat": 4
 },
 "nbformat": 4,
 "nbformat_minor": 2
}
