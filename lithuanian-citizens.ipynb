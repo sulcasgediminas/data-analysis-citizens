{
 "cells": [
  {
   "cell_type": "code",
   "execution_count": 15,
   "metadata": {},
   "outputs": [],
   "source": [
    "import pandas as pd\n",
    "import plotly.express as px\n",
    "import plotly.graph_objects as go\n",
    "import numpy as np"
   ]
  },
  {
   "cell_type": "code",
   "execution_count": 6,
   "metadata": {},
   "outputs": [],
   "source": [
    "with open('gr_open_amzius_lytis_pilietybes-1.plain', 'r') as file:\n",
    "    data = file.read()\n",
    "\n",
    "column_names = ['Number', 'Gender', 'Age Range', 'Nationality', 'Year of declaration', 'During the quarter', 'Redion code', 'Region name', 'Date']\n",
    "data_frame = pd.DataFrame([x.split('|') for x in data.split('\\n')], columns=column_names)"
   ]
  },
  {
   "cell_type": "code",
   "execution_count": 7,
   "metadata": {},
   "outputs": [
    {
     "data": {
      "text/html": [
       "<div>\n",
       "<style scoped>\n",
       "    .dataframe tbody tr th:only-of-type {\n",
       "        vertical-align: middle;\n",
       "    }\n",
       "\n",
       "    .dataframe tbody tr th {\n",
       "        vertical-align: top;\n",
       "    }\n",
       "\n",
       "    .dataframe thead th {\n",
       "        text-align: right;\n",
       "    }\n",
       "</style>\n",
       "<table border=\"1\" class=\"dataframe\">\n",
       "  <thead>\n",
       "    <tr style=\"text-align: right;\">\n",
       "      <th></th>\n",
       "      <th>Number</th>\n",
       "      <th>Gender</th>\n",
       "      <th>Age Range</th>\n",
       "      <th>Nationality</th>\n",
       "      <th>Year of declaration</th>\n",
       "      <th>During the quarter</th>\n",
       "      <th>Redion code</th>\n",
       "      <th>Region name</th>\n",
       "      <th>Date</th>\n",
       "    </tr>\n",
       "  </thead>\n",
       "  <tbody>\n",
       "    <tr>\n",
       "      <th>0</th>\n",
       "      <td>nr</td>\n",
       "      <td>fiz_asm_lyt</td>\n",
       "      <td>fiz_asm_amzius</td>\n",
       "      <td>fiz_asm_pilietybe</td>\n",
       "      <td>deklarav_metai</td>\n",
       "      <td>deklarav_ketvirtis</td>\n",
       "      <td>sav_kodas</td>\n",
       "      <td>sav_pavadinimas</td>\n",
       "      <td>data_formav</td>\n",
       "    </tr>\n",
       "    <tr>\n",
       "      <th>1</th>\n",
       "      <td>595554</td>\n",
       "      <td>V</td>\n",
       "      <td>45-54</td>\n",
       "      <td>Lietuvos</td>\n",
       "      <td>2002</td>\n",
       "      <td>K4</td>\n",
       "      <td>13</td>\n",
       "      <td>Vilniaus m. sav.</td>\n",
       "      <td>2024-01-26</td>\n",
       "    </tr>\n",
       "    <tr>\n",
       "      <th>2</th>\n",
       "      <td>999037</td>\n",
       "      <td>M</td>\n",
       "      <td>45-54</td>\n",
       "      <td>Lietuvos</td>\n",
       "      <td>1993</td>\n",
       "      <td>K4</td>\n",
       "      <td>29</td>\n",
       "      <td>Šiaulių m. sav.</td>\n",
       "      <td>2024-01-26</td>\n",
       "    </tr>\n",
       "    <tr>\n",
       "      <th>3</th>\n",
       "      <td>1492649</td>\n",
       "      <td>V</td>\n",
       "      <td>45-54</td>\n",
       "      <td>Lietuvos</td>\n",
       "      <td>1991</td>\n",
       "      <td>K3</td>\n",
       "      <td>46</td>\n",
       "      <td>Jonavos r. sav.</td>\n",
       "      <td>2024-01-26</td>\n",
       "    </tr>\n",
       "    <tr>\n",
       "      <th>4</th>\n",
       "      <td>6980</td>\n",
       "      <td>M</td>\n",
       "      <td>7-17</td>\n",
       "      <td>Lietuvos</td>\n",
       "      <td>2023</td>\n",
       "      <td>K1</td>\n",
       "      <td>13</td>\n",
       "      <td>Vilniaus m. sav.</td>\n",
       "      <td>2024-01-26</td>\n",
       "    </tr>\n",
       "  </tbody>\n",
       "</table>\n",
       "</div>"
      ],
      "text/plain": [
       "    Number       Gender       Age Range        Nationality  \\\n",
       "0       nr  fiz_asm_lyt  fiz_asm_amzius  fiz_asm_pilietybe   \n",
       "1   595554            V           45-54           Lietuvos   \n",
       "2   999037            M           45-54           Lietuvos   \n",
       "3  1492649            V           45-54           Lietuvos   \n",
       "4     6980            M            7-17           Lietuvos   \n",
       "\n",
       "  Year of declaration  During the quarter Redion code       Region name  \\\n",
       "0      deklarav_metai  deklarav_ketvirtis   sav_kodas   sav_pavadinimas   \n",
       "1                2002                  K4          13  Vilniaus m. sav.   \n",
       "2                1993                  K4          29   Šiaulių m. sav.   \n",
       "3                1991                  K3          46   Jonavos r. sav.   \n",
       "4                2023                  K1          13  Vilniaus m. sav.   \n",
       "\n",
       "          Date  \n",
       "0  data_formav  \n",
       "1   2024-01-26  \n",
       "2   2024-01-26  \n",
       "3   2024-01-26  \n",
       "4   2024-01-26  "
      ]
     },
     "execution_count": 7,
     "metadata": {},
     "output_type": "execute_result"
    }
   ],
   "source": [
    "data_frame.head()"
   ]
  },
  {
   "cell_type": "code",
   "execution_count": 17,
   "metadata": {},
   "outputs": [
    {
     "ename": "TypeError",
     "evalue": "'<' not supported between instances of 'NoneType' and 'str'",
     "output_type": "error",
     "traceback": [
      "\u001b[0;31m---------------------------------------------------------------------------\u001b[0m",
      "\u001b[0;31mTypeError\u001b[0m                                 Traceback (most recent call last)",
      "Cell \u001b[0;32mIn[17], line 5\u001b[0m\n\u001b[1;32m      3\u001b[0m df_reindexed\u001b[39m.\u001b[39mhead()\n\u001b[1;32m      4\u001b[0m df_unique2 \u001b[39m=\u001b[39m data_frame[\u001b[39m'\u001b[39m\u001b[39mYear of declaration\u001b[39m\u001b[39m'\u001b[39m]\u001b[39m.\u001b[39munique()\n\u001b[0;32m----> 5\u001b[0m df_sorted \u001b[39m=\u001b[39m np\u001b[39m.\u001b[39;49msort(df_unique2)\n\u001b[1;32m      6\u001b[0m \u001b[39mprint\u001b[39m(df_sorted)\n",
      "File \u001b[0;32m~/Desktop/data-analysis-of-Lithuanian-citizens/citizens-venv/lib/python3.10/site-packages/numpy/core/fromnumeric.py:1017\u001b[0m, in \u001b[0;36msort\u001b[0;34m(a, axis, kind, order)\u001b[0m\n\u001b[1;32m   1015\u001b[0m \u001b[39melse\u001b[39;00m:\n\u001b[1;32m   1016\u001b[0m     a \u001b[39m=\u001b[39m asanyarray(a)\u001b[39m.\u001b[39mcopy(order\u001b[39m=\u001b[39m\u001b[39m\"\u001b[39m\u001b[39mK\u001b[39m\u001b[39m\"\u001b[39m)\n\u001b[0;32m-> 1017\u001b[0m a\u001b[39m.\u001b[39;49msort(axis\u001b[39m=\u001b[39;49maxis, kind\u001b[39m=\u001b[39;49mkind, order\u001b[39m=\u001b[39;49morder)\n\u001b[1;32m   1018\u001b[0m \u001b[39mreturn\u001b[39;00m a\n",
      "\u001b[0;31mTypeError\u001b[0m: '<' not supported between instances of 'NoneType' and 'str'"
     ]
    }
   ],
   "source": [
    "df_dropped = data_frame.drop(index=0)\n",
    "df_reindexed = df_dropped.reset_index(drop=True)\n",
    "df_reindexed.head()\n",
    "df_unique2 = data_frame['Year of declaration'].unique()\n",
    "df_sorted = np.sort(df_unique2)\n",
    "print(df_sorted)"
   ]
  },
  {
   "cell_type": "code",
   "execution_count": 9,
   "metadata": {},
   "outputs": [
    {
     "data": {
      "text/html": [
       "<div>\n",
       "<style scoped>\n",
       "    .dataframe tbody tr th:only-of-type {\n",
       "        vertical-align: middle;\n",
       "    }\n",
       "\n",
       "    .dataframe tbody tr th {\n",
       "        vertical-align: top;\n",
       "    }\n",
       "\n",
       "    .dataframe thead th {\n",
       "        text-align: right;\n",
       "    }\n",
       "</style>\n",
       "<table border=\"1\" class=\"dataframe\">\n",
       "  <thead>\n",
       "    <tr style=\"text-align: right;\">\n",
       "      <th></th>\n",
       "      <th>Gender</th>\n",
       "      <th>Age Range</th>\n",
       "      <th>Region name</th>\n",
       "    </tr>\n",
       "  </thead>\n",
       "  <tbody>\n",
       "    <tr>\n",
       "      <th>0</th>\n",
       "      <td>V</td>\n",
       "      <td>45-54</td>\n",
       "      <td>Vilniaus m. sav.</td>\n",
       "    </tr>\n",
       "    <tr>\n",
       "      <th>1</th>\n",
       "      <td>M</td>\n",
       "      <td>45-54</td>\n",
       "      <td>Šiaulių m. sav.</td>\n",
       "    </tr>\n",
       "    <tr>\n",
       "      <th>2</th>\n",
       "      <td>V</td>\n",
       "      <td>45-54</td>\n",
       "      <td>Jonavos r. sav.</td>\n",
       "    </tr>\n",
       "    <tr>\n",
       "      <th>3</th>\n",
       "      <td>M</td>\n",
       "      <td>7-17</td>\n",
       "      <td>Vilniaus m. sav.</td>\n",
       "    </tr>\n",
       "    <tr>\n",
       "      <th>4</th>\n",
       "      <td>M</td>\n",
       "      <td>0-6</td>\n",
       "      <td>Šiaulių m. sav.</td>\n",
       "    </tr>\n",
       "  </tbody>\n",
       "</table>\n",
       "</div>"
      ],
      "text/plain": [
       "  Gender Age Range       Region name\n",
       "0      V     45-54  Vilniaus m. sav.\n",
       "1      M     45-54   Šiaulių m. sav.\n",
       "2      V     45-54   Jonavos r. sav.\n",
       "3      M      7-17  Vilniaus m. sav.\n",
       "4      M       0-6   Šiaulių m. sav."
      ]
     },
     "execution_count": 9,
     "metadata": {},
     "output_type": "execute_result"
    }
   ],
   "source": [
    "df = df_reindexed.loc[:, ['Gender', 'Age Range', 'Region name']]\n",
    "df.head()"
   ]
  },
  {
   "cell_type": "code",
   "execution_count": 10,
   "metadata": {},
   "outputs": [
    {
     "data": {
      "text/plain": [
       "array(['Vilniaus m. sav.', 'Šiaulių m. sav.', 'Jonavos r. sav.',\n",
       "       'Šiaulių r. sav.', 'Kauno m. sav.', 'Klaipėdos m. sav.',\n",
       "       'Alytaus m. sav.', 'Varėnos r. sav.', 'Pasvalio r. sav.',\n",
       "       'Tauragės r. sav.', 'Širvintų r. sav.', 'Kupiškio r. sav.',\n",
       "       'Panevėžio r. sav.', 'Kauno r. sav.', 'Pakruojo r. sav.',\n",
       "       'Rokiškio r. sav.', 'Joniškio r. sav.', 'Telšių r. sav.',\n",
       "       'Klaipėdos r. sav.', 'Ukmergės r. sav.', 'Marijampolės sav.',\n",
       "       'Vilkaviškio r. sav.', 'Utenos r. sav.', 'Molėtų r. sav.',\n",
       "       'Prienų r. sav.', 'Kalvarijos sav.', 'Šalčininkų r. sav.',\n",
       "       'Raseinių r. sav.', 'Visagino sav.', 'Trakų r. sav.',\n",
       "       'Panevėžio m. sav.', 'Šilutės r. sav.', 'Druskininkų sav.',\n",
       "       'Kėdainių r. sav.', 'Plungės r. sav.', 'Vilniaus r. sav.',\n",
       "       'Elektrėnų sav.', 'Jurbarko r. sav.', 'Kretingos r. sav.',\n",
       "       'Kazlų Rūdos sav.', 'Kaišiadorių r. sav.', 'Neringos sav.',\n",
       "       'Biržų r. sav.', 'Palangos m. sav.', 'Radviliškio r. sav.',\n",
       "       'Akmenės r. sav.', 'Šakių r. sav.', 'Mažeikių r. sav.',\n",
       "       'Anykščių r. sav.', 'Alytaus r. sav.', 'Zarasų r. sav.',\n",
       "       'Lazdijų r. sav.', 'Šilalės r. sav.', 'Švenčionių r. sav.',\n",
       "       'Pagėgių sav.', 'Skuodo r. sav.', 'Birštono sav.',\n",
       "       'Kelmės r. sav.', 'Rietavo sav.', 'Ignalinos r. sav.', None],\n",
       "      dtype=object)"
      ]
     },
     "execution_count": 10,
     "metadata": {},
     "output_type": "execute_result"
    }
   ],
   "source": [
    "df_unique = df['Region name'].unique()\n",
    "df_unique"
   ]
  }
 ],
 "metadata": {
  "kernelspec": {
   "display_name": "venv",
   "language": "python",
   "name": "python3"
  },
  "language_info": {
   "codemirror_mode": {
    "name": "ipython",
    "version": 3
   },
   "file_extension": ".py",
   "mimetype": "text/x-python",
   "name": "python",
   "nbconvert_exporter": "python",
   "pygments_lexer": "ipython3",
   "version": "3.10.6"
  },
  "orig_nbformat": 4
 },
 "nbformat": 4,
 "nbformat_minor": 2
}
